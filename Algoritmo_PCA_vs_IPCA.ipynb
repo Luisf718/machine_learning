{
  "nbformat": 4,
  "nbformat_minor": 0,
  "metadata": {
    "colab": {
      "name": "Algoritmo_PCA_vs_IPCA.ipynb",
      "provenance": [],
      "authorship_tag": "ABX9TyPZY93XvVGpx3gwF7k4uWuZ"
    },
    "kernelspec": {
      "name": "python3",
      "display_name": "Python 3"
    },
    "language_info": {
      "name": "python"
    }
  },
  "cells": [
    {
      "cell_type": "code",
      "metadata": {
        "id": "Wk93VYkm0nRn"
      },
      "source": [
        "import pandas as pd \n",
        "import sklearn \n",
        "import matplotlib.pyplot as plt\n",
        "\n",
        "from sklearn.decomposition import PCA\n",
        "from sklearn.decomposition import IncrementalPCA\n",
        "from sklearn.linear_model import LogisticRegression\n",
        "\n",
        "from sklearn.preprocessing import StandardScaler\n",
        "from sklearn.model_selection import train_test_split"
      ],
      "execution_count": 3,
      "outputs": []
    },
    {
      "cell_type": "code",
      "metadata": {
        "colab": {
          "base_uri": "https://localhost:8080/"
        },
        "id": "4CPnGpS3062K",
        "outputId": "aac09b39-7f39-404f-dc60-6f1bc87d17bf"
      },
      "source": [
        "dt_heart = pd.read_csv(\"heart.csv\")\n",
        "print(dt_heart)"
      ],
      "execution_count": 4,
      "outputs": [
        {
          "output_type": "stream",
          "name": "stdout",
          "text": [
            "      age  sex  cp  trestbps  chol  ...  oldpeak  slope  ca  thal  target\n",
            "0      52    1   0       125   212  ...      1.0      2   2     3       0\n",
            "1      53    1   0       140   203  ...      3.1      0   0     3       0\n",
            "2      70    1   0       145   174  ...      2.6      0   0     3       0\n",
            "3      61    1   0       148   203  ...      0.0      2   1     3       0\n",
            "4      62    0   0       138   294  ...      1.9      1   3     2       0\n",
            "...   ...  ...  ..       ...   ...  ...      ...    ...  ..   ...     ...\n",
            "1020   59    1   1       140   221  ...      0.0      2   0     2       1\n",
            "1021   60    1   0       125   258  ...      2.8      1   1     3       0\n",
            "1022   47    1   0       110   275  ...      1.0      1   1     2       0\n",
            "1023   50    0   0       110   254  ...      0.0      2   0     2       1\n",
            "1024   54    1   0       120   188  ...      1.4      1   1     3       0\n",
            "\n",
            "[1025 rows x 14 columns]\n"
          ]
        }
      ]
    },
    {
      "cell_type": "code",
      "metadata": {
        "id": "mSdr4hh11QJS"
      },
      "source": [
        "dt_features = dt_heart.drop([\"target\"], axis=1)\n",
        "dt_target = dt_heart[\"target\"]"
      ],
      "execution_count": 5,
      "outputs": []
    },
    {
      "cell_type": "code",
      "metadata": {
        "id": "M0-inj-d1miH"
      },
      "source": [
        "dt_features = StandardScaler().fit_transform(dt_features)"
      ],
      "execution_count": 6,
      "outputs": []
    },
    {
      "cell_type": "code",
      "metadata": {
        "id": "Xaw0i6sJ1tpV"
      },
      "source": [
        "x_train, x_test, y_train, y_test = train_test_split(dt_features, dt_target, test_size = 0.30, random_state = 1)"
      ],
      "execution_count": 7,
      "outputs": []
    },
    {
      "cell_type": "code",
      "metadata": {
        "colab": {
          "base_uri": "https://localhost:8080/"
        },
        "id": "x6wttI1RCWxL",
        "outputId": "5084411a-0a07-458b-9f62-80cefd8bc033"
      },
      "source": [
        "pca = PCA(n_components=3)\n",
        "pca.fit(x_train)"
      ],
      "execution_count": 8,
      "outputs": [
        {
          "output_type": "execute_result",
          "data": {
            "text/plain": [
              "PCA(copy=True, iterated_power='auto', n_components=3, random_state=None,\n",
              "    svd_solver='auto', tol=0.0, whiten=False)"
            ]
          },
          "metadata": {},
          "execution_count": 8
        }
      ]
    },
    {
      "cell_type": "code",
      "metadata": {
        "colab": {
          "base_uri": "https://localhost:8080/",
          "height": 265
        },
        "id": "JYiuJfrPCd3P",
        "outputId": "13331778-6078-4ca9-ce78-c9445c8f6d2b"
      },
      "source": [
        "ipca = IncrementalPCA(n_components=3, batch_size=10)\n",
        "ipca.fit(x_train)\n",
        "plt.plot(range(len(pca.explained_variance_)), pca.explained_variance_ratio_)\n",
        "plt.show()"
      ],
      "execution_count": 9,
      "outputs": [
        {
          "output_type": "display_data",
          "data": {
            "image/png": "[encoded data removed]",
            "text/plain": [
              "<Figure size 432x288 with 1 Axes>"
            ]
          },
          "metadata": {
            "needs_background": "light"
          }
        }
      ]
    },
    {
      "cell_type": "code",
      "metadata": {
        "colab": {
          "base_uri": "https://localhost:8080/"
        },
        "id": "xC7Z4t-BDZ3a",
        "outputId": "5d4d6bd7-9f38-4444-8b3b-5c4dd10de59a"
      },
      "source": [
        "#Calculamos el score del PCA\n",
        "logistic = LogisticRegression(solver=\"lbfgs\")\n",
        "dt_train = pca.transform(x_train)\n",
        "dt_test = pca.transform(x_test)\n",
        "logistic.fit(dt_train, y_train)\n",
        "print(\"Score PCA: \", logistic.score(dt_test, y_test))"
      ],
      "execution_count": 10,
      "outputs": [
        {
          "output_type": "stream",
          "name": "stdout",
          "text": [
            "Score PCA:  0.814935064935065\n"
          ]
        }
      ]
    },
    {
      "cell_type": "code",
      "metadata": {
        "colab": {
          "base_uri": "https://localhost:8080/"
        },
        "id": "4yUwpzTUEH3M",
        "outputId": "74a85551-c383-4dfe-8c42-f6f5a608cb19"
      },
      "source": [
        "#Calculamos el score con Incremental PCA\n",
        "dt_train = ipca.transform(x_train)\n",
        "dt_test = ipca.transform(x_test)\n",
        "logistic.fit(dt_train, y_train)\n",
        "print(\"Score IPCA: \", logistic.score(dt_test, y_test))"
      ],
      "execution_count": 11,
      "outputs": [
        {
          "output_type": "stream",
          "name": "stdout",
          "text": [
            "Score IPCA:  0.7922077922077922\n"
          ]
        }
      ]
    }
  ]
}