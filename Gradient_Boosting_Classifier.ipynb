{
  "nbformat": 4,
  "nbformat_minor": 0,
  "metadata": {
    "colab": {
      "name": "Gradient_Boosting_Classifier.ipynb",
      "provenance": [],
      "authorship_tag": "ABX9TyMsY/3LL1YJ0PyJNJsIk2ak"
    },
    "kernelspec": {
      "name": "python3",
      "display_name": "Python 3"
    },
    "language_info": {
      "name": "python"
    }
  },
  "cells": [
    {
      "cell_type": "code",
      "metadata": {
        "id": "FQH59xWj8F-f"
      },
      "source": [
        "import pandas as pd\n",
        "\n",
        "from sklearn.ensemble import GradientBoostingClassifier\n",
        "\n",
        "from sklearn.model_selection import train_test_split\n",
        "from sklearn.metrics import accuracy_score"
      ],
      "execution_count": 1,
      "outputs": []
    },
    {
      "cell_type": "code",
      "metadata": {
        "colab": {
          "base_uri": "https://localhost:8080/"
        },
        "id": "B5qIsTqR8VrD",
        "outputId": "52bc3f2a-7dea-4ced-bf64-35145a2b5787"
      },
      "source": [
        "dataset = pd.read_csv(\"heart.csv\")\n",
        "print(dataset)"
      ],
      "execution_count": 2,
      "outputs": [
        {
          "output_type": "stream",
          "name": "stdout",
          "text": [
            "      age  sex  cp  trestbps  chol  ...  oldpeak  slope  ca  thal  target\n",
            "0      52    1   0       125   212  ...      1.0      2   2     3       0\n",
            "1      53    1   0       140   203  ...      3.1      0   0     3       0\n",
            "2      70    1   0       145   174  ...      2.6      0   0     3       0\n",
            "3      61    1   0       148   203  ...      0.0      2   1     3       0\n",
            "4      62    0   0       138   294  ...      1.9      1   3     2       0\n",
            "...   ...  ...  ..       ...   ...  ...      ...    ...  ..   ...     ...\n",
            "1020   59    1   1       140   221  ...      0.0      2   0     2       1\n",
            "1021   60    1   0       125   258  ...      2.8      1   1     3       0\n",
            "1022   47    1   0       110   275  ...      1.0      1   1     2       0\n",
            "1023   50    0   0       110   254  ...      0.0      2   0     2       1\n",
            "1024   54    1   0       120   188  ...      1.4      1   1     3       0\n",
            "\n",
            "[1025 rows x 14 columns]\n"
          ]
        }
      ]
    },
    {
      "cell_type": "code",
      "metadata": {
        "id": "bmP9IKVj8csS"
      },
      "source": [
        "x = dataset.drop([\"target\"], axis=1)\n",
        "y = dataset[\"target\"]"
      ],
      "execution_count": 3,
      "outputs": []
    },
    {
      "cell_type": "code",
      "metadata": {
        "id": "r7s8F0a18gFO"
      },
      "source": [
        "x_train, x_test, y_train, y_test = train_test_split(x, y, test_size=0.35)"
      ],
      "execution_count": 4,
      "outputs": []
    },
    {
      "cell_type": "code",
      "metadata": {
        "colab": {
          "base_uri": "https://localhost:8080/"
        },
        "id": "5EKfZSye9Fnh",
        "outputId": "df210c64-cfa8-4a09-b421-59e87ca5f0b1"
      },
      "source": [
        "boost = GradientBoostingClassifier(n_estimators=50).fit(x_train, y_train)\n",
        "boost_pred = boost.predict(x_test)\n",
        "print(\"#\"*64)\n",
        "print(accuracy_score(boost_pred, y_test))"
      ],
      "execution_count": 5,
      "outputs": [
        {
          "output_type": "stream",
          "name": "stdout",
          "text": [
            "################################################################\n",
            "0.9693593314763231\n"
          ]
        }
      ]
    }
  ]
}