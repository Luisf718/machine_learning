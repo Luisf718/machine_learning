{
  "nbformat": 4,
  "nbformat_minor": 0,
  "metadata": {
    "colab": {
      "name": "Regresiones_Robustas.ipynb",
      "provenance": [],
      "collapsed_sections": [],
      "authorship_tag": "ABX9TyPawJwq3MWBfDaNfKx/EtR7"
    },
    "kernelspec": {
      "name": "python3",
      "display_name": "Python 3"
    },
    "language_info": {
      "name": "python"
    }
  },
  "cells": [
    {
      "cell_type": "code",
      "metadata": {
        "id": "krkbEc_3vweu"
      },
      "source": [
        "import pandas as pd\n",
        "\n",
        "from sklearn.linear_model import (\n",
        "    RANSACRegressor, HuberRegressor\n",
        ")\n",
        "from sklearn.svm import SVR\n",
        "\n",
        "from sklearn.model_selection import train_test_split\n",
        "from sklearn.metrics import mean_squared_error"
      ],
      "execution_count": 3,
      "outputs": []
    },
    {
      "cell_type": "code",
      "metadata": {
        "colab": {
          "base_uri": "https://localhost:8080/"
        },
        "id": "5HCB_LiDwllc",
        "outputId": "326e7e93-585c-4315-d3c2-45a84c8b4897"
      },
      "source": [
        "#Importo el dataset con los datos corruptos al final\n",
        "dataset = pd.read_csv(\"felicidad_corrupto.csv\")\n",
        "print(dataset)"
      ],
      "execution_count": 4,
      "outputs": [
        {
          "output_type": "stream",
          "name": "stdout",
          "text": [
            "         country  rank  score  ...  generosity  corruption  dystopia\n",
            "0         Norway     1  7.537  ...    0.362012    0.315964  2.277027\n",
            "1        Denmark     2  7.522  ...    0.355280    0.400770  2.313707\n",
            "2        Iceland     3  7.504  ...    0.475540    0.153527  2.322715\n",
            "3    Switzerland     4  7.494  ...    0.290549    0.367007  2.276716\n",
            "4        Finland     5  7.469  ...    0.245483    0.382612  2.430182\n",
            "..           ...   ...    ...  ...         ...         ...       ...\n",
            "164            J   165  0.000  ...    0.000000    0.000000  0.000000\n",
            "165            K   166  0.000  ...    0.000000    0.000000  0.000000\n",
            "166            L   167  0.000  ...    0.000000    0.000000  0.000000\n",
            "167            M   168  0.000  ...    0.000000    0.000000  0.000000\n",
            "168            N   169  0.000  ...    0.000000    0.000000  0.000000\n",
            "\n",
            "[169 rows x 12 columns]\n"
          ]
        }
      ]
    },
    {
      "cell_type": "code",
      "metadata": {
        "colab": {
          "base_uri": "https://localhost:8080/"
        },
        "id": "XC2LjS0qxD5c",
        "outputId": "6aed6c2f-cbb0-48d0-dddc-c9f082eff22b"
      },
      "source": [
        "x = dataset.drop([\"country\", \"score\"], axis=1)\n",
        "y = dataset[[\"score\"]]\n",
        "print(x)"
      ],
      "execution_count": 5,
      "outputs": [
        {
          "output_type": "stream",
          "name": "stdout",
          "text": [
            "     rank      high       low  ...  generosity  corruption  dystopia\n",
            "0       1  7.594445  7.479556  ...    0.362012    0.315964  2.277027\n",
            "1       2  7.581728  7.462272  ...    0.355280    0.400770  2.313707\n",
            "2       3  7.622030  7.385970  ...    0.475540    0.153527  2.322715\n",
            "3       4  7.561772  7.426227  ...    0.290549    0.367007  2.276716\n",
            "4       5  7.527542  7.410458  ...    0.245483    0.382612  2.430182\n",
            "..    ...       ...       ...  ...         ...         ...       ...\n",
            "164   165  0.000000  0.000000  ...    0.000000    0.000000  0.000000\n",
            "165   166  0.000000  0.000000  ...    0.000000    0.000000  0.000000\n",
            "166   167  0.000000  0.000000  ...    0.000000    0.000000  0.000000\n",
            "167   168  0.000000  0.000000  ...    0.000000    0.000000  0.000000\n",
            "168   169  0.000000  0.000000  ...    0.000000    0.000000  0.000000\n",
            "\n",
            "[169 rows x 10 columns]\n"
          ]
        }
      ]
    },
    {
      "cell_type": "code",
      "metadata": {
        "id": "h7axls4txjkf"
      },
      "source": [
        "x_train, x_test, y_train, y_test = train_test_split(x, y, test_size=0.3, random_state=1)\n"
      ],
      "execution_count": 6,
      "outputs": []
    },
    {
      "cell_type": "code",
      "metadata": {
        "id": "7GvVG3Yux-2B"
      },
      "source": [
        "estimadores = {\n",
        "    \"SVR\": SVR(gamma= \"auto\", C=1.0, epsilon=0.1),\n",
        "    \"RANSAC\": RANSACRegressor(),\n",
        "    \"HUBER\": HuberRegressor(epsilon=1.35)\n",
        "}"
      ],
      "execution_count": 7,
      "outputs": []
    },
    {
      "cell_type": "code",
      "metadata": {
        "colab": {
          "base_uri": "https://localhost:8080/"
        },
        "id": "0y0XBFnoztXV",
        "outputId": "a979aea3-9d61-4877-e9ec-1021593bbda6"
      },
      "source": [
        "for name, estimador in estimadores.items():\n",
        "  estimador.fit(x_train, y_train)\n",
        "  predictions = estimador.predict(x_test)\n",
        "  print(\"#\"*64)\n",
        "  print(name)\n",
        "  print(\"MSE: \", mean_squared_error(y_test, predictions))"
      ],
      "execution_count": 8,
      "outputs": [
        {
          "output_type": "stream",
          "name": "stdout",
          "text": [
            "################################################################\n",
            "SVR\n",
            "MSE:  0.12994722296717864\n",
            "################################################################\n",
            "RANSAC\n",
            "MSE:  1.2759120225573914e-19\n",
            "################################################################\n",
            "HUBER\n",
            "MSE:  1.2326063520190246e-06\n"
          ]
        },
        {
          "output_type": "stream",
          "name": "stderr",
          "text": [
            "/usr/local/lib/python3.7/dist-packages/sklearn/utils/validation.py:760: DataConversionWarning: A column-vector y was passed when a 1d array was expected. Please change the shape of y to (n_samples, ), for example using ravel().\n",
            "  y = column_or_1d(y, warn=True)\n",
            "/usr/local/lib/python3.7/dist-packages/sklearn/utils/validation.py:760: DataConversionWarning: A column-vector y was passed when a 1d array was expected. Please change the shape of y to (n_samples, ), for example using ravel().\n",
            "  y = column_or_1d(y, warn=True)\n",
            "/usr/local/lib/python3.7/dist-packages/sklearn/linear_model/_huber.py:296: ConvergenceWarning: lbfgs failed to converge (status=1):\n",
            "STOP: TOTAL NO. of ITERATIONS REACHED LIMIT.\n",
            "\n",
            "Increase the number of iterations (max_iter) or scale the data as shown in:\n",
            "    https://scikit-learn.org/stable/modules/preprocessing.html\n",
            "  self.n_iter_ = _check_optimize_result(\"lbfgs\", opt_res, self.max_iter)\n"
          ]
        }
      ]
    }
  ]
}