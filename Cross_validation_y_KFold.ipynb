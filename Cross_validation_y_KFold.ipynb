{
  "nbformat": 4,
  "nbformat_minor": 0,
  "metadata": {
    "colab": {
      "name": "Cross_validation_y_KFold.ipynb",
      "provenance": [],
      "collapsed_sections": [],
      "authorship_tag": "ABX9TyMYMUzYHD8pjQD9ncKyz3xO"
    },
    "kernelspec": {
      "name": "python3",
      "display_name": "Python 3"
    },
    "language_info": {
      "name": "python"
    }
  },
  "cells": [
    {
      "cell_type": "code",
      "metadata": {
        "id": "qMEbw7I0PD14"
      },
      "source": [
        "import pandas as pd\n",
        "import numpy as np\n",
        "\n",
        "from sklearn.tree import DecisionTreeRegressor\n",
        "\n",
        "from sklearn.model_selection import (\n",
        "    cross_val_score, KFold\n",
        ")"
      ],
      "execution_count": 1,
      "outputs": []
    },
    {
      "cell_type": "code",
      "metadata": {
        "colab": {
          "base_uri": "https://localhost:8080/"
        },
        "id": "rf57aTV3PkBH",
        "outputId": "4f5ba2be-f1c7-4c38-b0c4-9557b6549945"
      },
      "source": [
        "dataset = pd.read_csv(\"felicidad.csv\")\n",
        "print(dataset)"
      ],
      "execution_count": 2,
      "outputs": [
        {
          "output_type": "stream",
          "name": "stdout",
          "text": [
            "                      country  rank  score  ...  generosity  corruption  dystopia\n",
            "0                      Norway     1  7.537  ...    0.362012    0.315964  2.277027\n",
            "1                     Denmark     2  7.522  ...    0.355280    0.400770  2.313707\n",
            "2                     Iceland     3  7.504  ...    0.475540    0.153527  2.322715\n",
            "3                 Switzerland     4  7.494  ...    0.290549    0.367007  2.276716\n",
            "4                     Finland     5  7.469  ...    0.245483    0.382612  2.430182\n",
            "..                        ...   ...    ...  ...         ...         ...       ...\n",
            "150                    Rwanda   151  3.471  ...    0.252756    0.455220  0.540061\n",
            "151                     Syria   152  3.462  ...    0.493664    0.151347  1.061574\n",
            "152                  Tanzania   153  3.349  ...    0.354256    0.066035  0.621130\n",
            "153                   Burundi   154  2.905  ...    0.204435    0.084148  1.683024\n",
            "154  Central African Republic   155  2.693  ...    0.280876    0.056565  2.066005\n",
            "\n",
            "[155 rows x 12 columns]\n"
          ]
        }
      ]
    },
    {
      "cell_type": "code",
      "metadata": {
        "id": "gynNkSBSPyaQ"
      },
      "source": [
        "x = dataset.drop([\"country\", \"score\"], axis=1)\n",
        "y = dataset[\"score\"]"
      ],
      "execution_count": 3,
      "outputs": []
    },
    {
      "cell_type": "code",
      "metadata": {
        "colab": {
          "base_uri": "https://localhost:8080/"
        },
        "id": "GcIgIP-UP9Q2",
        "outputId": "a6104394-c2ca-4ef2-e243-b8f940b612c4"
      },
      "source": [
        "#Sacamos el score con croos validation\n",
        "regressor = DecisionTreeRegressor()\n",
        "score = cross_val_score(regressor, x, y, cv=3, scoring=\"neg_mean_squared_error\")\n",
        "print(np.abs(np.mean(score)))"
      ],
      "execution_count": 4,
      "outputs": [
        {
          "output_type": "stream",
          "name": "stdout",
          "text": [
            "0.5696789889470232\n"
          ]
        }
      ]
    },
    {
      "cell_type": "code",
      "metadata": {
        "colab": {
          "base_uri": "https://localhost:8080/"
        },
        "id": "Ym8gknECQtcG",
        "outputId": "1ecb3a54-4002-46d9-8f2d-b891e712f3ce"
      },
      "source": [
        "#Usamos KFold con el modelo\n",
        "kf = KFold(n_splits=3, shuffle=True, random_state=1)\n",
        "for train, test in kf.split(dataset):\n",
        "  print(train)\n",
        "  print(test)"
      ],
      "execution_count": 5,
      "outputs": [
        {
          "output_type": "stream",
          "name": "stdout",
          "text": [
            "[  0   1   2   3   4   6   7   8   9  10  11  12  13  15  20  21  22  23\n",
            "  24  25  26  27  30  32  34  36  37  38  39  41  43  45  46  47  49  50\n",
            "  52  55  57  60  61  62  63  64  65  67  68  70  71  72  74  76  79  80\n",
            "  81  82  83  84  85  86  87  88  91  95  96  97  98 100 101 102 103 106\n",
            " 107 108 110 112 113 114 115 116 118 119 120 121 126 128 129 130 132 133\n",
            " 134 136 137 139 140 141 143 144 146 148 150 152 154]\n",
            "[  5  14  16  17  18  19  28  29  31  33  35  40  42  44  48  51  53  54\n",
            "  56  58  59  66  69  73  75  77  78  89  90  92  93  94  99 104 105 109\n",
            " 111 117 122 123 124 125 127 131 135 138 142 145 147 149 151 153]\n",
            "[  1   3   5   7   8  13  14  16  17  18  19  20  21  22  24  25  26  28\n",
            "  29  30  31  33  35  37  40  41  42  43  44  47  48  49  50  51  52  53\n",
            "  54  56  57  58  59  60  61  63  66  68  69  70  71  72  73  75  76  77\n",
            "  78  79  80  82  86  88  89  90  92  93  94  96  99 101 104 105 106 109\n",
            " 111 115 117 118 121 122 123 124 125 127 128 129 131 132 133 134 135 137\n",
            " 138 139 140 141 142 144 145 146 147 149 151 152 153]\n",
            "[  0   2   4   6   9  10  11  12  15  23  27  32  34  36  38  39  45  46\n",
            "  55  62  64  65  67  74  81  83  84  85  87  91  95  97  98 100 102 103\n",
            " 107 108 110 112 113 114 116 119 120 126 130 136 143 148 150 154]\n",
            "[  0   2   4   5   6   9  10  11  12  14  15  16  17  18  19  23  27  28\n",
            "  29  31  32  33  34  35  36  38  39  40  42  44  45  46  48  51  53  54\n",
            "  55  56  58  59  62  64  65  66  67  69  73  74  75  77  78  81  83  84\n",
            "  85  87  89  90  91  92  93  94  95  97  98  99 100 102 103 104 105 107\n",
            " 108 109 110 111 112 113 114 116 117 119 120 122 123 124 125 126 127 130\n",
            " 131 135 136 138 142 143 145 147 148 149 150 151 153 154]\n",
            "[  1   3   7   8  13  20  21  22  24  25  26  30  37  41  43  47  49  50\n",
            "  52  57  60  61  63  68  70  71  72  76  79  80  82  86  88  96 101 106\n",
            " 115 118 121 128 129 132 133 134 137 139 140 141 144 146 152]\n"
          ]
        }
      ]
    }
  ]
}