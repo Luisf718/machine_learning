{
  "nbformat": 4,
  "nbformat_minor": 0,
  "metadata": {
    "colab": {
      "name": "Mean_Shift.ipynb",
      "provenance": [],
      "collapsed_sections": [],
      "authorship_tag": "ABX9TyP380ImjdSSxVrRte8UIvaW"
    },
    "kernelspec": {
      "name": "python3",
      "display_name": "Python 3"
    },
    "language_info": {
      "name": "python"
    }
  },
  "cells": [
    {
      "cell_type": "code",
      "metadata": {
        "id": "2RmxP_XnTg_k"
      },
      "source": [
        "import pandas as pd\n",
        "\n",
        "from sklearn.cluster import MeanShift"
      ],
      "execution_count": 1,
      "outputs": []
    },
    {
      "cell_type": "code",
      "metadata": {
        "colab": {
          "base_uri": "https://localhost:8080/"
        },
        "id": "Hs9ENNPKTv3T",
        "outputId": "c918a2de-16a1-4bb3-eb0e-d57855903565"
      },
      "source": [
        "dataset = pd.read_csv(\"candy.csv\")\n",
        "print(dataset)"
      ],
      "execution_count": 3,
      "outputs": [
        {
          "output_type": "stream",
          "name": "stdout",
          "text": [
            "                competitorname  chocolate  ...  pricepercent  winpercent\n",
            "0                    100 Grand          1  ...         0.860   66.971725\n",
            "1                 3 Musketeers          1  ...         0.511   67.602936\n",
            "2                     One dime          0  ...         0.116   32.261086\n",
            "3                  One quarter          0  ...         0.511   46.116505\n",
            "4                    Air Heads          0  ...         0.511   52.341465\n",
            "..                         ...        ...  ...           ...         ...\n",
            "80                   Twizzlers          0  ...         0.116   45.466282\n",
            "81                    Warheads          0  ...         0.116   39.011898\n",
            "82        WelchÕs Fruit Snacks          0  ...         0.313   44.375519\n",
            "83  WertherÕs Original Caramel          0  ...         0.267   41.904308\n",
            "84                    Whoppers          1  ...         0.848   49.524113\n",
            "\n",
            "[85 rows x 13 columns]\n"
          ]
        }
      ]
    },
    {
      "cell_type": "code",
      "metadata": {
        "id": "o7Hu9LJxT5aR"
      },
      "source": [
        "x = dataset.drop(\"competitorname\", axis=1)"
      ],
      "execution_count": 4,
      "outputs": []
    },
    {
      "cell_type": "code",
      "metadata": {
        "colab": {
          "base_uri": "https://localhost:8080/"
        },
        "id": "sTvrtYLaUKMc",
        "outputId": "1c7d7e59-76d2-4d70-ac85-45f670b74b85"
      },
      "source": [
        "meanshift = MeanShift().fit(x)\n",
        "#Imprimimos el numero maximo de categorias\n",
        "print(max(meanshift.labels_))\n",
        "print(\"#\"*64)\n",
        "#Imprimimos los centroides que utilizo el algoritmo\n",
        "print(meanshift.cluster_centers_)"
      ],
      "execution_count": 9,
      "outputs": [
        {
          "output_type": "stream",
          "name": "stdout",
          "text": [
            "2\n",
            "################################################################\n",
            "[[2.25000000e-01 5.75000000e-01 1.00000000e-01 2.50000000e-02\n",
            "  5.00000000e-02 2.50000000e-02 3.00000000e-01 1.00000000e-01\n",
            "  5.50000000e-01 4.57599993e-01 3.67824996e-01 4.10442122e+01]\n",
            " [4.68750000e-01 5.00000000e-01 1.25000000e-01 1.56250000e-01\n",
            "  9.37500000e-02 6.25000000e-02 1.25000000e-01 3.12500000e-01\n",
            "  5.31250000e-01 4.57281243e-01 4.67874998e-01 5.21138597e+01]\n",
            " [8.26086957e-01 1.73913043e-01 3.04347826e-01 3.04347826e-01\n",
            "  1.73913043e-01 1.73913043e-01 0.00000000e+00 5.21739130e-01\n",
            "  4.34782609e-01 5.81391293e-01 6.38086963e-01 6.47120799e+01]]\n"
          ]
        }
      ]
    },
    {
      "cell_type": "code",
      "metadata": {
        "colab": {
          "base_uri": "https://localhost:8080/"
        },
        "id": "2Q3US0TpUueX",
        "outputId": "cc1dc3fd-d88e-4a1a-8401-dc637586fb06"
      },
      "source": [
        "#Agregamos los grupos que generamos con Meanshift al dataset original\n",
        "dataset[\"meanshift\"] = meanshift.labels_\n",
        "print(dataset)"
      ],
      "execution_count": 13,
      "outputs": [
        {
          "output_type": "stream",
          "name": "stdout",
          "text": [
            "                competitorname  chocolate  ...  winpercent  meanshift\n",
            "0                    100 Grand          1  ...   66.971725          2\n",
            "1                 3 Musketeers          1  ...   67.602936          2\n",
            "2                     One dime          0  ...   32.261086          0\n",
            "3                  One quarter          0  ...   46.116505          0\n",
            "4                    Air Heads          0  ...   52.341465          1\n",
            "..                         ...        ...  ...         ...        ...\n",
            "80                   Twizzlers          0  ...   45.466282          0\n",
            "81                    Warheads          0  ...   39.011898          0\n",
            "82        WelchÕs Fruit Snacks          0  ...   44.375519          0\n",
            "83  WertherÕs Original Caramel          0  ...   41.904308          0\n",
            "84                    Whoppers          1  ...   49.524113          1\n",
            "\n",
            "[85 rows x 14 columns]\n"
          ]
        }
      ]
    }
  ]
}