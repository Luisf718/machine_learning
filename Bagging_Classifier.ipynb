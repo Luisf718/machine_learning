{
  "nbformat": 4,
  "nbformat_minor": 0,
  "metadata": {
    "colab": {
      "name": "Bagging_Classifier.ipynb",
      "provenance": [],
      "collapsed_sections": [],
      "authorship_tag": "ABX9TyMYEYSoOCbR/GRJURw4Dwm9"
    },
    "kernelspec": {
      "name": "python3",
      "display_name": "Python 3"
    },
    "language_info": {
      "name": "python"
    }
  },
  "cells": [
    {
      "cell_type": "code",
      "metadata": {
        "id": "6TuN-oGh3JLZ"
      },
      "source": [
        "import pandas as pd\n",
        "from sklearn.neighbors import KNeighborsClassifier\n",
        "from sklearn.ensemble import BaggingClassifier\n",
        "\n",
        "from sklearn.model_selection import train_test_split\n",
        "from sklearn.metrics import accuracy_score"
      ],
      "execution_count": 1,
      "outputs": []
    },
    {
      "cell_type": "code",
      "metadata": {
        "colab": {
          "base_uri": "https://localhost:8080/"
        },
        "id": "oiWrO6lb35uC",
        "outputId": "484750cd-d15e-407e-d15b-b883bd7099b6"
      },
      "source": [
        "dataset = pd.read_csv(\"heart.csv\")\n",
        "print(dataset)"
      ],
      "execution_count": 2,
      "outputs": [
        {
          "output_type": "stream",
          "name": "stdout",
          "text": [
            "      age  sex  cp  trestbps  chol  ...  oldpeak  slope  ca  thal  target\n",
            "0      52    1   0       125   212  ...      1.0      2   2     3       0\n",
            "1      53    1   0       140   203  ...      3.1      0   0     3       0\n",
            "2      70    1   0       145   174  ...      2.6      0   0     3       0\n",
            "3      61    1   0       148   203  ...      0.0      2   1     3       0\n",
            "4      62    0   0       138   294  ...      1.9      1   3     2       0\n",
            "...   ...  ...  ..       ...   ...  ...      ...    ...  ..   ...     ...\n",
            "1020   59    1   1       140   221  ...      0.0      2   0     2       1\n",
            "1021   60    1   0       125   258  ...      2.8      1   1     3       0\n",
            "1022   47    1   0       110   275  ...      1.0      1   1     2       0\n",
            "1023   50    0   0       110   254  ...      0.0      2   0     2       1\n",
            "1024   54    1   0       120   188  ...      1.4      1   1     3       0\n",
            "\n",
            "[1025 rows x 14 columns]\n"
          ]
        }
      ]
    },
    {
      "cell_type": "code",
      "metadata": {
        "id": "NdvoQtV84MCP"
      },
      "source": [
        "x = dataset.drop([\"target\"], axis=1)\n",
        "y = dataset[\"target\"]"
      ],
      "execution_count": 3,
      "outputs": []
    },
    {
      "cell_type": "code",
      "metadata": {
        "id": "hnFaeT2-4WxL"
      },
      "source": [
        "x_train, x_test, y_train, y_test = train_test_split(x, y, test_size=0.35)"
      ],
      "execution_count": 4,
      "outputs": []
    },
    {
      "cell_type": "code",
      "metadata": {
        "colab": {
          "base_uri": "https://localhost:8080/"
        },
        "id": "k7xbKjut5q7L",
        "outputId": "bb832e13-acd8-41f8-8034-ce098829068d"
      },
      "source": [
        "knn_class = KNeighborsClassifier().fit(x_train, y_train)\n",
        "knn_pred = knn_class.predict(x_test)\n",
        "print(\"#\"*64)\n",
        "print(\"K Neighbors Classifier: \", accuracy_score(knn_pred, y_test))\n",
        "bag_class = BaggingClassifier(base_estimator=KNeighborsClassifier(), n_estimators=50).fit(x_train, y_train)\n",
        "bag_pred = bag_class.predict(x_test)\n",
        "print(\"#\"*64)\n",
        "print(\"Bagging Classifier: \", accuracy_score(bag_pred, y_test))"
      ],
      "execution_count": 5,
      "outputs": [
        {
          "output_type": "stream",
          "name": "stdout",
          "text": [
            "################################################################\n",
            "K Neighbors Classifier:  0.6740947075208914\n",
            "################################################################\n",
            "Bagging Classifier:  0.7158774373259053\n"
          ]
        }
      ]
    }
  ]
}