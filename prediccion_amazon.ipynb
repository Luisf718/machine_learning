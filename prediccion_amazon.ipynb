{
  "nbformat": 4,
  "nbformat_minor": 0,
  "metadata": {
    "colab": {
      "name": "prediccion_amazon.ipynb",
      "provenance": [],
      "collapsed_sections": [],
      "authorship_tag": "ABX9TyOS/4PMgFxMbfbl/h/yFsBX"
    },
    "kernelspec": {
      "name": "python3",
      "display_name": "Python 3"
    },
    "language_info": {
      "name": "python"
    }
  },
  "cells": [
    {
      "cell_type": "code",
      "metadata": {
        "id": "o_TbM0Eo0ITI"
      },
      "source": [
        "import pandas as pd\n",
        "import matplotlib.pyplot as plt\n",
        "from sklearn.model_selection import train_test_split\n",
        "from sklearn.linear_model import LinearRegression\n",
        "import numpy as np"
      ],
      "execution_count": 1,
      "outputs": []
    },
    {
      "cell_type": "code",
      "metadata": {
        "id": "FihQmaeOW_e9"
      },
      "source": [
        ""
      ],
      "execution_count": null,
      "outputs": []
    },
    {
      "cell_type": "code",
      "metadata": {
        "colab": {
          "base_uri": "https://localhost:8080/"
        },
        "id": "mj__Vhu90oG3",
        "outputId": "26d81902-dfef-41db-cb96-1404feca96c0"
      },
      "source": [
        "dataset_amazon = pd.read_csv(\"AMZN.csv\")\n",
        "print(dataset_amazon)"
      ],
      "execution_count": 4,
      "outputs": [
        {
          "output_type": "stream",
          "name": "stdout",
          "text": [
            "            Date         Open         High  ...        Close    Adj Close    Volume\n",
            "0     2000-01-31    60.375000    64.750000  ...    64.562500    64.562500  10697900\n",
            "1     2000-02-01    67.500000    70.625000  ...    67.437500    67.437500  13404600\n",
            "2     2000-02-02    67.937500    72.250000  ...    69.437500    69.437500  14025900\n",
            "3     2000-02-03    81.125000    85.937500  ...    84.187500    84.187500  43750000\n",
            "4     2000-02-04    82.750000    82.750000  ...    78.562500    78.562500  11023000\n",
            "...          ...          ...          ...  ...          ...          ...       ...\n",
            "5446  2021-09-22  3351.000000  3389.000000  ...  3380.050049  3380.050049   2411400\n",
            "5447  2021-09-23  3380.050049  3428.959961  ...  3416.000000  3416.000000   2379400\n",
            "5448  2021-09-24  3402.010010  3429.260010  ...  3425.520020  3425.520020   2113600\n",
            "5449  2021-09-27  3371.500000  3415.570068  ...  3405.800049  3405.800049   3634500\n",
            "5450  2021-09-28  3357.709961  3369.189941  ...  3315.959961  3315.959961   4430800\n",
            "\n",
            "[5451 rows x 7 columns]\n"
          ]
        }
      ]
    },
    {
      "cell_type": "code",
      "metadata": {
        "colab": {
          "base_uri": "https://localhost:8080/"
        },
        "id": "6c4NrtMD1Hu2",
        "outputId": "142caf47-0b6e-4931-cc51-bc7d52b29fad"
      },
      "source": [
        "dataset_amazon.shape"
      ],
      "execution_count": 8,
      "outputs": [
        {
          "output_type": "execute_result",
          "data": {
            "text/plain": [
              "(5451, 7)"
            ]
          },
          "metadata": {},
          "execution_count": 8
        }
      ]
    },
    {
      "cell_type": "code",
      "metadata": {
        "colab": {
          "base_uri": "https://localhost:8080/"
        },
        "id": "xfmUabVg1PqE",
        "outputId": "cb4626aa-015e-4d2a-9807-7fa814afb80d"
      },
      "source": [
        "#Reemplazo los espacios vacios que hay en el archivo\n",
        "dataset_amazon[\"Date\"] = [float(str(i).replace(\"-\", \"\")) for i in dataset_amazon[\"Date\"]]\n",
        "#Ahora si declaro las variables X y Y\n",
        "y = dataset_amazon.iloc[:, 1].values\n",
        "x = dataset_amazon.iloc[:,:1].values\n",
        "print(y)"
      ],
      "execution_count": 10,
      "outputs": [
        {
          "output_type": "stream",
          "name": "stdout",
          "text": [
            "[  60.375      67.5        67.9375   ... 3402.01001  3371.5\n",
            " 3357.709961]\n"
          ]
        }
      ]
    },
    {
      "cell_type": "code",
      "metadata": {
        "id": "qZhgsd-n5Jzq"
      },
      "source": [
        "X_train, X_test, Y_train, Y_test = train_test_split(x, y, test_size = 0.25, random_state = 0)"
      ],
      "execution_count": 11,
      "outputs": []
    },
    {
      "cell_type": "code",
      "metadata": {
        "colab": {
          "base_uri": "https://localhost:8080/"
        },
        "id": "ut6poTLa5iMy",
        "outputId": "7364d548-a42b-4335-9c69-5e723e38ca32"
      },
      "source": [
        "#Con esto entrenamos el modelo\n",
        "regressor = LinearRegression()\n",
        "regressor.fit(X_train, Y_train)"
      ],
      "execution_count": 12,
      "outputs": [
        {
          "output_type": "execute_result",
          "data": {
            "text/plain": [
              "LinearRegression(copy_X=True, fit_intercept=True, n_jobs=None, normalize=False)"
            ]
          },
          "metadata": {},
          "execution_count": 12
        }
      ]
    },
    {
      "cell_type": "code",
      "metadata": {
        "colab": {
          "base_uri": "https://localhost:8080/",
          "height": 313
        },
        "id": "6mjhvTlKBvnm",
        "outputId": "00770ea5-66ea-4b76-d6b2-452ab78a8a28"
      },
      "source": [
        "#Graficamos el entrenamiento del algoritmo\n",
        "viz_train = plt\n",
        "viz_train.scatter(X_train, Y_train, color = \"red\")\n",
        "viz_train.plot(X_train, regressor.predict(X_train), color = \"blue\")\n",
        "viz_train.title(\"Prediccion amazon\")\n",
        "viz_train.xlabel(\"Fecha\")\n",
        "viz_train.ylabel(\"Precio\")\n",
        "viz_train.show"
      ],
      "execution_count": 13,
      "outputs": [
        {
          "output_type": "execute_result",
          "data": {
            "text/plain": [
              "<function matplotlib.pyplot.show>"
            ]
          },
          "metadata": {},
          "execution_count": 13
        },
        {
          "output_type": "display_data",
          "data": {
            "image/png": "[encoded data removed]",
            "text/plain": [
              "<Figure size 432x288 with 1 Axes>"
            ]
          },
          "metadata": {
            "needs_background": "light"
          }
        }
      ]
    },
    {
      "cell_type": "code",
      "metadata": {
        "colab": {
          "base_uri": "https://localhost:8080/",
          "height": 313
        },
        "id": "HJOBK5pWEdH9",
        "outputId": "8ba314a2-e8ef-476d-84d2-9f59d2362ba8"
      },
      "source": [
        "#Graficamos el entrenamiento del algoritmo\n",
        "viz_train = plt\n",
        "viz_train.scatter(X_test, Y_test, color = \"red\")\n",
        "viz_train.plot(X_train, regressor.predict(X_train), color = \"blue\")\n",
        "viz_train.title(\"Prediccion amazon\")\n",
        "viz_train.xlabel(\"Fecha\")\n",
        "viz_train.ylabel(\"Precio\")\n",
        "viz_train.show"
      ],
      "execution_count": 14,
      "outputs": [
        {
          "output_type": "execute_result",
          "data": {
            "text/plain": [
              "<function matplotlib.pyplot.show>"
            ]
          },
          "metadata": {},
          "execution_count": 14
        },
        {
          "output_type": "display_data",
          "data": {
            "image/png": "[encoded data removed]",
            "text/plain": [
              "<Figure size 432x288 with 1 Axes>"
            ]
          },
          "metadata": {
            "needs_background": "light"
          }
        }
      ]
    },
    {
      "cell_type": "code",
      "metadata": {
        "colab": {
          "base_uri": "https://localhost:8080/"
        },
        "id": "JnN1u1GsFJoe",
        "outputId": "ed010878-2ac5-479d-9df9-f4aa43441557"
      },
      "source": [
        "#Mides el porcentaje de exactitud de predicion de los datos futuros que pongas\n",
        "regressor.score(X_test, Y_test)"
      ],
      "execution_count": 15,
      "outputs": [
        {
          "output_type": "execute_result",
          "data": {
            "text/plain": [
              "0.5990686516557661"
            ]
          },
          "metadata": {},
          "execution_count": 15
        }
      ]
    }
  ]
}