{
  "nbformat": 4,
  "nbformat_minor": 0,
  "metadata": {
    "colab": {
      "name": "Algoritmo_Kernel_PCA.ipynb",
      "provenance": [],
      "authorship_tag": "ABX9TyMMf53WCmqUm/dr0GHRL9U/"
    },
    "kernelspec": {
      "name": "python3",
      "display_name": "Python 3"
    },
    "language_info": {
      "name": "python"
    }
  },
  "cells": [
    {
      "cell_type": "code",
      "metadata": {
        "id": "6xg1QpdoHrFM"
      },
      "source": [
        "import pandas as pd \n",
        "import sklearn \n",
        "import matplotlib.pyplot as plt\n",
        "\n",
        "from sklearn.decomposition import KernelPCA\n",
        "from sklearn.decomposition import IncrementalPCA\n",
        "from sklearn.linear_model import LogisticRegression\n",
        "\n",
        "from sklearn.preprocessing import StandardScaler\n",
        "from sklearn.model_selection import train_test_split"
      ],
      "execution_count": 1,
      "outputs": []
    },
    {
      "cell_type": "code",
      "metadata": {
        "colab": {
          "base_uri": "https://localhost:8080/"
        },
        "id": "7_G1Q99OIJAd",
        "outputId": "f77e72be-de17-4c8a-c63e-7e3779200863"
      },
      "source": [
        "dt_heart = pd.read_csv(\"heart.csv\")\n",
        "print(dt_heart)"
      ],
      "execution_count": 2,
      "outputs": [
        {
          "output_type": "stream",
          "name": "stdout",
          "text": [
            "      age  sex  cp  trestbps  chol  ...  oldpeak  slope  ca  thal  target\n",
            "0      52    1   0       125   212  ...      1.0      2   2     3       0\n",
            "1      53    1   0       140   203  ...      3.1      0   0     3       0\n",
            "2      70    1   0       145   174  ...      2.6      0   0     3       0\n",
            "3      61    1   0       148   203  ...      0.0      2   1     3       0\n",
            "4      62    0   0       138   294  ...      1.9      1   3     2       0\n",
            "...   ...  ...  ..       ...   ...  ...      ...    ...  ..   ...     ...\n",
            "1020   59    1   1       140   221  ...      0.0      2   0     2       1\n",
            "1021   60    1   0       125   258  ...      2.8      1   1     3       0\n",
            "1022   47    1   0       110   275  ...      1.0      1   1     2       0\n",
            "1023   50    0   0       110   254  ...      0.0      2   0     2       1\n",
            "1024   54    1   0       120   188  ...      1.4      1   1     3       0\n",
            "\n",
            "[1025 rows x 14 columns]\n"
          ]
        }
      ]
    },
    {
      "cell_type": "code",
      "metadata": {
        "id": "e6GEgmMDIXWo"
      },
      "source": [
        "dt_features = dt_heart.drop([\"target\"], axis=1)\n",
        "dt_target = dt_heart[\"target\"]"
      ],
      "execution_count": 3,
      "outputs": []
    },
    {
      "cell_type": "code",
      "metadata": {
        "id": "OSulQ17yIbzV"
      },
      "source": [
        "dt_features = StandardScaler().fit_transform(dt_features)"
      ],
      "execution_count": 4,
      "outputs": []
    },
    {
      "cell_type": "code",
      "metadata": {
        "id": "jrlyEJGbIeRk"
      },
      "source": [
        "x_train, x_test, y_train, y_test = train_test_split(dt_features, dt_target, test_size = 0.30, random_state = 1)"
      ],
      "execution_count": 5,
      "outputs": []
    },
    {
      "cell_type": "code",
      "metadata": {
        "id": "HlqNy6Lb3606"
      },
      "source": [
        "kpca = KernelPCA(n_components=4, kernel=\"poly\")\n",
        "kpca.fit(x_train)\n",
        "\n",
        "dt_train = kpca.transform(x_train)\n",
        "dt_test = kpca.transform(x_test)"
      ],
      "execution_count": 6,
      "outputs": []
    },
    {
      "cell_type": "code",
      "metadata": {
        "colab": {
          "base_uri": "https://localhost:8080/"
        },
        "id": "SBqx1-Ub4uWc",
        "outputId": "c67a779a-088b-418c-cbcc-72dd86f32d65"
      },
      "source": [
        "logistic = LogisticRegression(solver=\"lbfgs\")\n",
        "logistic.fit(dt_train, y_train)\n",
        "print(\"Score KPCA: \", logistic.score(dt_test, y_test))"
      ],
      "execution_count": 7,
      "outputs": [
        {
          "output_type": "stream",
          "name": "stdout",
          "text": [
            "Score KPCA:  0.7694805194805194\n"
          ]
        }
      ]
    }
  ]
}