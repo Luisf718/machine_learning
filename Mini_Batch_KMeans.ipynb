{
  "nbformat": 4,
  "nbformat_minor": 0,
  "metadata": {
    "colab": {
      "name": "Mini_Batch_KMeans.ipynb",
      "provenance": [],
      "authorship_tag": "ABX9TyOh4DE1OKzFBbxNdZkOHbnR"
    },
    "kernelspec": {
      "name": "python3",
      "display_name": "Python 3"
    },
    "language_info": {
      "name": "python"
    }
  },
  "cells": [
    {
      "cell_type": "code",
      "metadata": {
        "id": "CO2fk276O9C8"
      },
      "source": [
        "import pandas as pd\n",
        "\n",
        "from sklearn.cluster import MiniBatchKMeans\n",
        "#MiniBatchKMeans sirve para poder clasificar sin necesidad de tanto poder de computo como con el KMeans normal"
      ],
      "execution_count": 14,
      "outputs": []
    },
    {
      "cell_type": "code",
      "metadata": {
        "colab": {
          "base_uri": "https://localhost:8080/"
        },
        "id": "71jHsECEPU7x",
        "outputId": "f16dd34b-94d3-4684-b520-97bac2a7725c"
      },
      "source": [
        "dataset = pd.read_csv(\"candy.csv\")\n",
        "print(dataset)"
      ],
      "execution_count": 7,
      "outputs": [
        {
          "output_type": "stream",
          "name": "stdout",
          "text": [
            "                competitorname  chocolate  ...  pricepercent  winpercent\n",
            "0                    100 Grand          1  ...         0.860   66.971725\n",
            "1                 3 Musketeers          1  ...         0.511   67.602936\n",
            "2                     One dime          0  ...         0.116   32.261086\n",
            "3                  One quarter          0  ...         0.511   46.116505\n",
            "4                    Air Heads          0  ...         0.511   52.341465\n",
            "..                         ...        ...  ...           ...         ...\n",
            "80                   Twizzlers          0  ...         0.116   45.466282\n",
            "81                    Warheads          0  ...         0.116   39.011898\n",
            "82        WelchÕs Fruit Snacks          0  ...         0.313   44.375519\n",
            "83  WertherÕs Original Caramel          0  ...         0.267   41.904308\n",
            "84                    Whoppers          1  ...         0.848   49.524113\n",
            "\n",
            "[85 rows x 13 columns]\n"
          ]
        }
      ]
    },
    {
      "cell_type": "code",
      "metadata": {
        "id": "PYXHga-pPngW"
      },
      "source": [
        "x = dataset.drop(\"competitorname\", axis=1)"
      ],
      "execution_count": 8,
      "outputs": []
    },
    {
      "cell_type": "code",
      "metadata": {
        "colab": {
          "base_uri": "https://localhost:8080/"
        },
        "id": "AeDv3PfoPwdr",
        "outputId": "c6b4a852-b2f3-4c35-e755-d5dd5e3fde02"
      },
      "source": [
        "kmeans = MiniBatchKMeans(n_clusters=4, batch_size=8).fit(x)\n",
        "print(\"Total de centros: \", len(kmeans.cluster_centers_))\n",
        "print(\"#\"*64)\n",
        "print(kmeans.predict(x))"
      ],
      "execution_count": 11,
      "outputs": [
        {
          "output_type": "stream",
          "name": "stdout",
          "text": [
            "Total de centros:  4\n",
            "################################################################\n",
            "[1 1 0 2 3 3 3 0 2 0 2 0 0 2 2 2 2 2 3 0 3 2 3 3 3 3 0 3 1 2 2 3 1 1 2 3 1\n",
            " 3 1 2 3 3 1 1 0 2 2 1 2 2 2 1 1 1 1 0 1 0 2 0 1 3 2 2 1 3 3 3 1 0 0 0 0 3\n",
            " 3 2 2 3 2 1 2 2 2 2 3]\n"
          ]
        }
      ]
    },
    {
      "cell_type": "code",
      "metadata": {
        "colab": {
          "base_uri": "https://localhost:8080/"
        },
        "id": "HZu-4t3CQ9LR",
        "outputId": "3707fe4f-8ee0-472a-cdc5-93f726253b66"
      },
      "source": [
        "dataset[\"group\"] = kmeans.predict(x)\n",
        "print(dataset)"
      ],
      "execution_count": 12,
      "outputs": [
        {
          "output_type": "stream",
          "name": "stdout",
          "text": [
            "                competitorname  chocolate  ...  winpercent  group\n",
            "0                    100 Grand          1  ...   66.971725      1\n",
            "1                 3 Musketeers          1  ...   67.602936      1\n",
            "2                     One dime          0  ...   32.261086      0\n",
            "3                  One quarter          0  ...   46.116505      2\n",
            "4                    Air Heads          0  ...   52.341465      3\n",
            "..                         ...        ...  ...         ...    ...\n",
            "80                   Twizzlers          0  ...   45.466282      2\n",
            "81                    Warheads          0  ...   39.011898      2\n",
            "82        WelchÕs Fruit Snacks          0  ...   44.375519      2\n",
            "83  WertherÕs Original Caramel          0  ...   41.904308      2\n",
            "84                    Whoppers          1  ...   49.524113      3\n",
            "\n",
            "[85 rows x 14 columns]\n"
          ]
        }
      ]
    }
  ]
}