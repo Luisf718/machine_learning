{
  "nbformat": 4,
  "nbformat_minor": 0,
  "metadata": {
    "colab": {
      "name": "regresion_lineal_simple_scikitlearn.ipynb",
      "provenance": [],
      "authorship_tag": "ABX9TyNo9Jld1GxriVsW7m6Xjgba"
    },
    "kernelspec": {
      "name": "python3",
      "display_name": "Python 3"
    },
    "language_info": {
      "name": "python"
    }
  },
  "cells": [
    {
      "cell_type": "code",
      "metadata": {
        "id": "rDS5UppJHUnn"
      },
      "source": [
        "import pandas as pd\n",
        "import matplotlib.pyplot as plt\n",
        "from sklearn.model_selection import train_test_split\n",
        "from sklearn.linear_model import LinearRegression"
      ],
      "execution_count": 1,
      "outputs": []
    },
    {
      "cell_type": "code",
      "metadata": {
        "colab": {
          "base_uri": "https://localhost:8080/"
        },
        "id": "lUK_3kL2HyEO",
        "outputId": "c4d76a82-c17f-491d-b34b-1f6aaa7b7834"
      },
      "source": [
        "dataset_salarios = pd.read_csv(\"salarios_curso.csv\")\n",
        "print(dataset_salarios)"
      ],
      "execution_count": 14,
      "outputs": [
        {
          "output_type": "stream",
          "name": "stdout",
          "text": [
            "    Aexperiencia  Salario\n",
            "0           10.0    42500\n",
            "1            8.0    36302\n",
            "2            5.4    35000\n",
            "3            2.5    18103\n",
            "4            1.0    15000\n",
            "5            8.0    37000\n",
            "6            4.0    26300\n",
            "7            6.0    35201\n",
            "8            2.0    18302\n",
            "9           10.0    42000\n",
            "10           4.0    27000\n",
            "11           7.0    35201\n",
            "12           3.0    19201\n",
            "13           5.0    28000\n",
            "14           2.0    17000\n",
            "15           5.0    33402\n",
            "16           3.0    19000\n",
            "17           2.0    18200\n",
            "18           3.0    19000\n",
            "19           2.0    17301\n",
            "20           5.0    28000\n",
            "21           3.4    20000\n",
            "22           5.3    27900\n",
            "23           2.1    17500\n",
            "24           9.2    40000\n",
            "25          10.0    42500\n",
            "26           3.2    18300\n",
            "27          10.0    40000\n",
            "28           4.0    25000\n",
            "29           1.0    15000\n"
          ]
        }
      ]
    },
    {
      "cell_type": "code",
      "metadata": {
        "colab": {
          "base_uri": "https://localhost:8080/"
        },
        "id": "ucupZZ7dIHhp",
        "outputId": "f8ccccad-6fe9-4442-b214-7ec431dc5cc1"
      },
      "source": [
        "#Para ver la cantidad de datos que vamos a manejar y si \n",
        "#es suficiente para entrenar\n",
        "dataset_salarios.shape"
      ],
      "execution_count": 4,
      "outputs": [
        {
          "output_type": "execute_result",
          "data": {
            "text/plain": [
              "(30, 2)"
            ]
          },
          "metadata": {},
          "execution_count": 4
        }
      ]
    },
    {
      "cell_type": "code",
      "metadata": {
        "id": "_R-eugPdIWQr"
      },
      "source": [
        "x = dataset_salarios.iloc[:, :-1].values\n",
        "y = dataset_salarios.iloc[:, 1].values"
      ],
      "execution_count": 5,
      "outputs": []
    },
    {
      "cell_type": "code",
      "metadata": {
        "id": "VpEOn89vIiQE"
      },
      "source": [
        "X_train, X_test, Y_train, Y_test = train_test_split(x, y, test_size = 0.2, random_state = 0)"
      ],
      "execution_count": 18,
      "outputs": []
    },
    {
      "cell_type": "code",
      "metadata": {
        "colab": {
          "base_uri": "https://localhost:8080/"
        },
        "id": "IDLKC4NuJkgB",
        "outputId": "ccb220a1-cb23-4528-9c19-63f8ad900331"
      },
      "source": [
        "#Con esto entrenamos el modelo\n",
        "regressor = LinearRegression()\n",
        "regressor.fit(X_train, Y_train)"
      ],
      "execution_count": 16,
      "outputs": [
        {
          "output_type": "execute_result",
          "data": {
            "text/plain": [
              "LinearRegression(copy_X=True, fit_intercept=True, n_jobs=None, normalize=False)"
            ]
          },
          "metadata": {},
          "execution_count": 16
        }
      ]
    },
    {
      "cell_type": "code",
      "metadata": {
        "colab": {
          "base_uri": "https://localhost:8080/",
          "height": 295
        },
        "id": "bkBcMTTDLrkH",
        "outputId": "cfab52f1-6b9d-43f6-dfda-5c068cda65f9"
      },
      "source": [
        "#Graficamos el entrenamiento del algoritmo\n",
        "viz_train = plt\n",
        "viz_train.scatter(X_train, Y_train, color = \"blue\")\n",
        "viz_train.plot(X_train, regressor.predict(X_train), color = \"black\")\n",
        "viz_train.title(\"salario vs experiencia\")\n",
        "viz_train.xlabel(\"Experiencia\")\n",
        "viz_train.ylabel(\"Salario\")\n",
        "viz_train.show()\n"
      ],
      "execution_count": 20,
      "outputs": [
        {
          "output_type": "display_data",
          "data": {
            "image/png": "[encoded data removed]",
            "text/plain": [
              "<Figure size 432x288 with 1 Axes>"
            ]
          },
          "metadata": {
            "needs_background": "light"
          }
        }
      ]
    },
    {
      "cell_type": "code",
      "metadata": {
        "colab": {
          "base_uri": "https://localhost:8080/",
          "height": 295
        },
        "id": "gUovC8SaMzKr",
        "outputId": "ec30fdaf-f92d-4b85-d411-f70d31341d8f"
      },
      "source": [
        "#Graficamos las predicciones despues del entrenamiento\n",
        "viz_train = plt\n",
        "viz_train.scatter(X_test, Y_test, color = \"blue\")\n",
        "viz_train.plot(X_train, regressor.predict(X_train), color = \"black\")\n",
        "viz_train.title(\"salario vs experiencia\")\n",
        "viz_train.xlabel(\"Experiencia\")\n",
        "viz_train.ylabel(\"Salario\")\n",
        "viz_train.show()"
      ],
      "execution_count": 21,
      "outputs": [
        {
          "output_type": "display_data",
          "data": {
            "image/png": "[encoded data removed]",
            "text/plain": [
              "<Figure size 432x288 with 1 Axes>"
            ]
          },
          "metadata": {
            "needs_background": "light"
          }
        }
      ]
    },
    {
      "cell_type": "code",
      "metadata": {
        "colab": {
          "base_uri": "https://localhost:8080/"
        },
        "id": "7UVnn-QPNSha",
        "outputId": "6fddd1bd-f07c-46b5-f6df-f075083598d8"
      },
      "source": [
        "#Mides el porcentaje de exactitud de predicion de los datos futuros que pongas\n",
        "regressor.score(X_test, Y_test)"
      ],
      "execution_count": 23,
      "outputs": [
        {
          "output_type": "execute_result",
          "data": {
            "text/plain": [
              "0.7862437374732997"
            ]
          },
          "metadata": {},
          "execution_count": 23
        }
      ]
    }
  ]
}